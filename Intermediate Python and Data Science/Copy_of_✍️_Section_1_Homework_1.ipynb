{
  "nbformat": 4,
  "nbformat_minor": 0,
  "metadata": {
    "colab": {
      "provenance": [],
      "gpuType": "T4",
      "include_colab_link": true
    },
    "kernelspec": {
      "name": "python3",
      "display_name": "Python 3"
    },
    "language_info": {
      "name": "python"
    },
    "accelerator": "GPU"
  },
  "cells": [
    {
      "cell_type": "markdown",
      "metadata": {
        "id": "view-in-github",
        "colab_type": "text"
      },
      "source": [
        "<a href=\"https://colab.research.google.com/github/ramahasiba/Zakey/blob/main/Copy_of_%E2%9C%8D%EF%B8%8F_Section_1_Homework_1.ipynb\" target=\"_parent\"><img src=\"https://colab.research.google.com/assets/colab-badge.svg\" alt=\"Open In Colab\"/></a>"
      ]
    },
    {
      "cell_type": "markdown",
      "source": [
        "## ✍️ Section 1. Homework 1\n",
        "\n",
        "---\n",
        "\n",
        "#### 📝 Assignment Overview\n",
        "\n",
        "In this homework, you will create a **Python program in Google Colab** that:\n",
        "\n",
        "- Uses **Markdown** to document the purpose and steps of your code.\n",
        "- Takes **user input** for a list of numbers.\n",
        "- Stores the numbers in both a **list** and a **dictionary** (e.g., number: frequency).\n",
        "- Performs **basic operations** such as:\n",
        "  - Calculating the sum\n",
        "  - Finding the average\n",
        "  - Identifying max/min values\n",
        "- Outputs results in a **formatted Markdown table**\n",
        "- Includes at least one **loop** and one **conditional statement**\n",
        "- Uses a **function** to process the data\n",
        "\n",
        "---\n",
        "\n",
        "#### ✅ Requirements\n",
        "\n",
        "Your program must include the following:\n",
        "\n",
        "| Feature | Description |\n",
        "|--------|-------------|\n",
        "| **Input** | Accept multiple numbers from user input (e.g., comma-separated) |\n",
        "| **Data Storage** | Store numbers in a list and track frequency in a dictionary |\n",
        "| **Operations** | Calculate sum, average, max, min |\n",
        "| **Control Structures** | Use at least one loop and one conditional (`if/else`) |\n",
        "| **Function** | Create a function to process the list and return computed values |\n",
        "| **Documentation** | Include Markdown cells explaining each part of your code |\n",
        "| **Output** | Display the final results in a formatted Markdown table |\n",
        "\n",
        "---\n",
        "\n",
        "#### 🧠 Example Workflow\n",
        "\n",
        "1. Ask the user to enter numbers (e.g., `5, 3, 7, 5, 2`)\n",
        "2. Convert input into a list of integers\n",
        "3. Count how many times each number appears (store in a dictionary)\n",
        "4. Use a function to compute:\n",
        "   - Sum\n",
        "   - Average (rounded to two decimals)\n",
        "   - Max value\n",
        "   - Min value\n",
        "5. Print all results in a well-formatted Markdown table like this:\n",
        "\n",
        "```markdown\n",
        "| Metric      | Value |\n",
        "|-------------|-------|\n",
        "| Sum         | 22    |\n",
        "| Average     | 4.40  |\n",
        "| Maximum     | 7     |\n",
        "| Minimum     | 2     |\n",
        "```\n",
        "\n",
        "```python\n",
        "# Step 1: Get user input\n",
        "input_str = input(\"Enter numbers separated by commas: \")\n",
        "number_list = [int(num.strip()) for num in input_str.split(',')]\n",
        "\n",
        "# Step 2: Count frequencies\n",
        "frequency_dict = {}\n",
        "for num in number_list:\n",
        "    if num in frequency_dict:\n",
        "        frequency_dict[num] += 1\n",
        "    else:\n",
        "        frequency_dict[num] = 1\n",
        "\n",
        "# Step 3: Define processing function\n",
        "def calculate_stats(numbers):\n",
        "    total = sum(numbers)\n",
        "    avg = round(total / len(numbers), 2)\n",
        "    maximum = max(numbers)\n",
        "    minimum = min(numbers)\n",
        "    return total, avg, maximum, minimum\n",
        "\n",
        "# Step 4: Call function and get results\n",
        "sum_result, avg_result, max_result, min_result = calculate_stats(number_list)\n",
        "\n",
        "# Step 5: Output results in a Markdown table\n",
        "print(f\"\"\"\n",
        "| Metric      | Value |\n",
        "|-------------|-------|\n",
        "| Sum         | {{sum_result}}   |\n",
        "| Average     | {{avg_result}}  |\n",
        "| Maximum     | {{max_result}}  |\n",
        "| Minimum     | {{min_result}}  |\n",
        "\"\"\")\n",
        "```\n",
        "#### 📤 Submission Instructions\n",
        "\n",
        "- Complete the assignment in  **this Google Colab notebook**.\n",
        "- Use **Markdown cells** to clearly explain each section of your code.\n",
        "- Once finished, **share the notebook link** with your instructor via email, LMS, or as specified.\n",
        "- Make sure the sharing settings allow the instructor to **view or comment** (do not require sign-in if possible).\n",
        "- **Due:** End of the week — check your course calendar for the exact deadline.\n",
        "\n",
        "#### 🧾 Grading Rubric\n",
        "\n",
        "| Criteria                    | Points |\n",
        "|----------------------------|--------|\n",
        "| Program runs without errors | 2      |\n",
        "| Correct use of list and dictionary | 2      |\n",
        "| Includes at least one loop and one conditional | 2      |\n",
        "| Function defined and used correctly | 2      |\n",
        "| Results displayed in formatted Markdown table | 1      |\n",
        "| Clear documentation using Markdown cells | 1      |\n",
        "| **Total**                  | **10** |\n",
        "\n",
        "#### ✅ Bonus Challenge (Optional)\n",
        "\n",
        "Add extra features such as:\n",
        "- Sorting numbers in ascending order\n",
        "- Identifying the most frequent number\n",
        "- Plotting a simple bar chart using `matplotlib`\n",
        "\n",
        "This is a great opportunity to go beyond the requirements and show off your skills!\n",
        "\n",
        "---\n",
        "\n",
        "Good luck on your final homework! This is your chance to demonstrate everything you've learned so far. If you're unsure about anything, feel free to ask questions during office hours. 💻✨\n",
        "\n"
      ],
      "metadata": {
        "id": "6RYIzZwBHIz8"
      }
    },
    {
      "cell_type": "code",
      "source": [
        "# Happy coding 😊"
      ],
      "metadata": {
        "id": "GeR08H4hIV8R"
      },
      "execution_count": null,
      "outputs": []
    },
    {
      "cell_type": "markdown",
      "source": [
        "### Importing Libraries"
      ],
      "metadata": {
        "id": "VPCxPmCRPDFP"
      }
    },
    {
      "cell_type": "code",
      "source": [
        "import numpy as np"
      ],
      "metadata": {
        "id": "Bv-F_WQ5PB6Y"
      },
      "execution_count": null,
      "outputs": []
    },
    {
      "cell_type": "markdown",
      "source": [
        "### 1. Ask the user to enter numbers (e.g., 5, 3, 7, 5, 2)"
      ],
      "metadata": {
        "id": "FVIVqVGkOuz0"
      }
    },
    {
      "cell_type": "code",
      "source": [
        "user_input = input(\"please enter numbers with ',' as separators\")\n",
        "nums = []\n",
        "nums_freuency = {}"
      ],
      "metadata": {
        "colab": {
          "base_uri": "https://localhost:8080/"
        },
        "id": "BgMmiH-SPbZf",
        "outputId": "67a60386-d6a6-459c-9673-8a4cace8dd5e"
      },
      "execution_count": null,
      "outputs": [
        {
          "name": "stdout",
          "output_type": "stream",
          "text": [
            "please enter numbers with ',' as separators5, 6\n"
          ]
        }
      ]
    },
    {
      "cell_type": "markdown",
      "source": [
        "### 2.Convert input into a list of integers && Count how many times each number appears (store in a dictionary)"
      ],
      "metadata": {
        "id": "QEvA_C9eO2hL"
      }
    },
    {
      "cell_type": "code",
      "source": [
        "for number in user_input.split(','):\n",
        "  number=int(number.strip())\n",
        "  nums.append(number)\n",
        "  if number in nums_freuency:\n",
        "    nums_freuency[number] += 1\n",
        "  else:\n",
        "    nums_freuency[number] = 1"
      ],
      "metadata": {
        "id": "aqbF_aVkVqZB"
      },
      "execution_count": null,
      "outputs": []
    },
    {
      "cell_type": "markdown",
      "source": [
        "### 3. Create a function to compute summary statistics"
      ],
      "metadata": {
        "id": "28D9RguRO8nz"
      }
    },
    {
      "cell_type": "code",
      "source": [
        "def compute_summary_stats(nums):\n",
        "  mean = np.mean(nums)\n",
        "  sum_of_nums = sum(nums)\n",
        "  minimum = min(nums)\n",
        "  maximum = max(nums)\n",
        "  return sum_of_nums, mean, maximum, minimum"
      ],
      "metadata": {
        "id": "drke6i2DMAPi"
      },
      "execution_count": null,
      "outputs": []
    },
    {
      "cell_type": "markdown",
      "source": [
        "### Printing REsults"
      ],
      "metadata": {
        "id": "vSJCcxL9PYJo"
      }
    },
    {
      "cell_type": "code",
      "source": [
        "sum_of_nums, mean, maximum, minimum = compute_summary_stats(nums)\n",
        "print(f\"\"\"\n",
        "| Metric      | Value |\n",
        "|-------------|-------|\n",
        "| Sum         | {sum_of_nums}    |\n",
        "| Average     | {mean}  |\n",
        "| Maximum     | {maximum}     |\n",
        "| Minimum     | {minimum}     |\n",
        "\"\"\")"
      ],
      "metadata": {
        "colab": {
          "base_uri": "https://localhost:8080/"
        },
        "id": "SsE2o2HINoaA",
        "outputId": "7281c1db-2b50-4963-db08-969082335f89"
      },
      "execution_count": null,
      "outputs": [
        {
          "output_type": "stream",
          "name": "stdout",
          "text": [
            "\n",
            "| Metric      | Value |\n",
            "|-------------|-------|\n",
            "| Sum         | 11    |\n",
            "| Average     | 5.5  |\n",
            "| Maximum     | 6     |\n",
            "| Minimum     | 5     |\n",
            "\n"
          ]
        }
      ]
    },
    {
      "cell_type": "code",
      "source": [],
      "metadata": {
        "id": "j_P2-PdjOQ3a"
      },
      "execution_count": null,
      "outputs": []
    }
  ]
}